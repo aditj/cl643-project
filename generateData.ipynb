{
 "cells": [
  {
   "cell_type": "code",
   "execution_count": 1,
   "id": "def2c4af-0978-4b93-a55f-b1ac6b5d45e0",
   "metadata": {},
   "outputs": [],
   "source": [
    "import numpy as np"
   ]
  },
  {
   "cell_type": "code",
   "execution_count": 2,
   "id": "414c86f8-e2b6-491b-85e2-0d2551ce5909",
   "metadata": {},
   "outputs": [],
   "source": [
    "import pandas as pd"
   ]
  },
  {
   "cell_type": "code",
   "execution_count": 3,
   "id": "0ada1bc3-4d6b-4a85-b0f6-5f11d2fe88c9",
   "metadata": {},
   "outputs": [],
   "source": [
    "import matplotlib.pyplot as plt"
   ]
  },
  {
   "cell_type": "code",
   "execution_count": 70,
   "id": "59fdcdc7-cbac-41d4-a690-54345276935b",
   "metadata": {},
   "outputs": [],
   "source": [
    "D = 500\n",
    "deliveryweights = np.random.randint(3,8,size = (D))\n",
    "Xs = np.random.randn(D)*100 \n",
    "Ys = np.random.randn(D)*100\n",
    "Ts = np.random.randint(1,12,size = (D))\n",
    "windvectors = (np.random.randn(D,12) + 1j*np.random.randn(D,12)) *10"
   ]
  },
  {
   "cell_type": "code",
   "execution_count": 84,
   "id": "08295d0f-e46a-4638-b207-6e4fcfc9576b",
   "metadata": {},
   "outputs": [],
   "source": [
    "df = pd.DataFrame(np.concatenate([np.array([deliveryweights,Xs,Ys,Ts]).T,windvectors],axis=1),columns=[\"Wi\",\"Xi\",\"Yi\",\"Ti\"]+[\"w\"+str(i) for i in range(12) ])"
   ]
  },
  {
   "cell_type": "code",
   "execution_count": 85,
   "id": "7320cd66-563d-41a4-a97c-7a54c56f96a7",
   "metadata": {},
   "outputs": [
    {
     "data": {
      "text/html": [
       "<div>\n",
       "<style scoped>\n",
       "    .dataframe tbody tr th:only-of-type {\n",
       "        vertical-align: middle;\n",
       "    }\n",
       "\n",
       "    .dataframe tbody tr th {\n",
       "        vertical-align: top;\n",
       "    }\n",
       "\n",
       "    .dataframe thead th {\n",
       "        text-align: right;\n",
       "    }\n",
       "</style>\n",
       "<table border=\"1\" class=\"dataframe\">\n",
       "  <thead>\n",
       "    <tr style=\"text-align: right;\">\n",
       "      <th></th>\n",
       "      <th>Wi</th>\n",
       "      <th>Xi</th>\n",
       "      <th>Yi</th>\n",
       "      <th>Ti</th>\n",
       "      <th>w0</th>\n",
       "      <th>w1</th>\n",
       "      <th>w2</th>\n",
       "      <th>w3</th>\n",
       "      <th>w4</th>\n",
       "      <th>w5</th>\n",
       "      <th>w6</th>\n",
       "      <th>w7</th>\n",
       "      <th>w8</th>\n",
       "      <th>w9</th>\n",
       "      <th>w10</th>\n",
       "      <th>w11</th>\n",
       "    </tr>\n",
       "  </thead>\n",
       "  <tbody>\n",
       "    <tr>\n",
       "      <th>0</th>\n",
       "      <td>7.0+0.0j</td>\n",
       "      <td>123.304118+0.000000j</td>\n",
       "      <td>-150.397511+0.000000j</td>\n",
       "      <td>3.0+0.0j</td>\n",
       "      <td>15.709944+20.492402j</td>\n",
       "      <td>12.554760-13.442268j</td>\n",
       "      <td>-10.478822-1.082417j</td>\n",
       "      <td>-0.536043+4.505183j</td>\n",
       "      <td>-0.106633+12.303546j</td>\n",
       "      <td>-9.304714+11.427174j</td>\n",
       "      <td>-6.0516720-6.1016110j</td>\n",
       "      <td>-2.415857-5.166673j</td>\n",
       "      <td>18.780503+10.973165j</td>\n",
       "      <td>-16.993709-2.665516j</td>\n",
       "      <td>0.179618+5.429724j</td>\n",
       "      <td>1.1186570+4.4553650j</td>\n",
       "    </tr>\n",
       "    <tr>\n",
       "      <th>1</th>\n",
       "      <td>7.0+0.0j</td>\n",
       "      <td>-75.708059+0.000000j</td>\n",
       "      <td>-162.584687+0.000000j</td>\n",
       "      <td>11.0+0.0j</td>\n",
       "      <td>-13.108054-4.912916j</td>\n",
       "      <td>0.2637010-4.6827470j</td>\n",
       "      <td>16.460457+3.264457j</td>\n",
       "      <td>-19.823648-9.502945j</td>\n",
       "      <td>-5.9791930+3.3675340j</td>\n",
       "      <td>-16.943320-17.270964j</td>\n",
       "      <td>11.244735-11.181667j</td>\n",
       "      <td>-6.671637-5.065871j</td>\n",
       "      <td>9.2194270+2.7624500j</td>\n",
       "      <td>-13.290156-3.610023j</td>\n",
       "      <td>3.107107-13.654716j</td>\n",
       "      <td>10.591812+10.280823j</td>\n",
       "    </tr>\n",
       "    <tr>\n",
       "      <th>2</th>\n",
       "      <td>3.0+0.0j</td>\n",
       "      <td>171.377754+0.000000j</td>\n",
       "      <td>142.374053+0.000000j</td>\n",
       "      <td>6.0+0.0j</td>\n",
       "      <td>-7.8079880+4.6481900j</td>\n",
       "      <td>-10.341360+1.679552j</td>\n",
       "      <td>-22.246655+4.623808j</td>\n",
       "      <td>-12.509615+5.507400j</td>\n",
       "      <td>-3.5886430-0.1158970j</td>\n",
       "      <td>-0.122878-15.783462j</td>\n",
       "      <td>16.751672-7.978203j</td>\n",
       "      <td>5.837951+14.491751j</td>\n",
       "      <td>20.366784+8.665004j</td>\n",
       "      <td>7.170849-9.866936j</td>\n",
       "      <td>4.578189+7.885377j</td>\n",
       "      <td>-3.0045230-9.5106310j</td>\n",
       "    </tr>\n",
       "    <tr>\n",
       "      <th>3</th>\n",
       "      <td>7.0+0.0j</td>\n",
       "      <td>-113.762987+0.000000j</td>\n",
       "      <td>-13.300700+0.000000j</td>\n",
       "      <td>10.0+0.0j</td>\n",
       "      <td>3.2483760+2.4414550j</td>\n",
       "      <td>11.918658-2.572868j</td>\n",
       "      <td>5.816869+11.778888j</td>\n",
       "      <td>7.021724+6.328366j</td>\n",
       "      <td>-17.500897+11.001894j</td>\n",
       "      <td>19.207468-5.341461j</td>\n",
       "      <td>3.771592+19.470489j</td>\n",
       "      <td>-29.185967+5.098296j</td>\n",
       "      <td>-17.819247-3.272890j</td>\n",
       "      <td>-1.712854+9.057837j</td>\n",
       "      <td>-8.366109-16.638001j</td>\n",
       "      <td>-8.2713180-9.1855880j</td>\n",
       "    </tr>\n",
       "    <tr>\n",
       "      <th>4</th>\n",
       "      <td>7.0+0.0j</td>\n",
       "      <td>8.0094430+0.0000000j</td>\n",
       "      <td>-179.070765+0.000000j</td>\n",
       "      <td>4.0+0.0j</td>\n",
       "      <td>0.2498170+3.3615910j</td>\n",
       "      <td>19.007608+14.247080j</td>\n",
       "      <td>-3.780530+25.502318j</td>\n",
       "      <td>2.159010+13.545844j</td>\n",
       "      <td>0.5471530+9.5510770j</td>\n",
       "      <td>21.277262+5.934641j</td>\n",
       "      <td>-15.559584-3.797603j</td>\n",
       "      <td>-8.447030+9.445784j</td>\n",
       "      <td>27.661094+0.018890j</td>\n",
       "      <td>0.387957+15.590005j</td>\n",
       "      <td>-1.704322+15.059548j</td>\n",
       "      <td>-15.061675-18.309062j</td>\n",
       "    </tr>\n",
       "  </tbody>\n",
       "</table>\n",
       "</div>"
      ],
      "text/plain": [
       "         Wi                    Xi                    Yi         Ti  \\\n",
       "0  7.0+0.0j  123.304118+0.000000j -150.397511+0.000000j   3.0+0.0j   \n",
       "1  7.0+0.0j  -75.708059+0.000000j -162.584687+0.000000j  11.0+0.0j   \n",
       "2  3.0+0.0j  171.377754+0.000000j  142.374053+0.000000j   6.0+0.0j   \n",
       "3  7.0+0.0j -113.762987+0.000000j  -13.300700+0.000000j  10.0+0.0j   \n",
       "4  7.0+0.0j  8.0094430+0.0000000j -179.070765+0.000000j   4.0+0.0j   \n",
       "\n",
       "                     w0                    w1                   w2  \\\n",
       "0  15.709944+20.492402j  12.554760-13.442268j -10.478822-1.082417j   \n",
       "1  -13.108054-4.912916j  0.2637010-4.6827470j  16.460457+3.264457j   \n",
       "2 -7.8079880+4.6481900j  -10.341360+1.679552j -22.246655+4.623808j   \n",
       "3  3.2483760+2.4414550j   11.918658-2.572868j  5.816869+11.778888j   \n",
       "4  0.2498170+3.3615910j  19.007608+14.247080j -3.780530+25.502318j   \n",
       "\n",
       "                    w3                    w4                    w5  \\\n",
       "0  -0.536043+4.505183j  -0.106633+12.303546j  -9.304714+11.427174j   \n",
       "1 -19.823648-9.502945j -5.9791930+3.3675340j -16.943320-17.270964j   \n",
       "2 -12.509615+5.507400j -3.5886430-0.1158970j  -0.122878-15.783462j   \n",
       "3   7.021724+6.328366j -17.500897+11.001894j   19.207468-5.341461j   \n",
       "4  2.159010+13.545844j  0.5471530+9.5510770j   21.277262+5.934641j   \n",
       "\n",
       "                     w6                   w7                    w8  \\\n",
       "0 -6.0516720-6.1016110j  -2.415857-5.166673j  18.780503+10.973165j   \n",
       "1  11.244735-11.181667j  -6.671637-5.065871j  9.2194270+2.7624500j   \n",
       "2   16.751672-7.978203j  5.837951+14.491751j   20.366784+8.665004j   \n",
       "3   3.771592+19.470489j -29.185967+5.098296j  -17.819247-3.272890j   \n",
       "4  -15.559584-3.797603j  -8.447030+9.445784j   27.661094+0.018890j   \n",
       "\n",
       "                    w9                  w10                   w11  \n",
       "0 -16.993709-2.665516j   0.179618+5.429724j  1.1186570+4.4553650j  \n",
       "1 -13.290156-3.610023j  3.107107-13.654716j  10.591812+10.280823j  \n",
       "2   7.170849-9.866936j   4.578189+7.885377j -3.0045230-9.5106310j  \n",
       "3  -1.712854+9.057837j -8.366109-16.638001j -8.2713180-9.1855880j  \n",
       "4  0.387957+15.590005j -1.704322+15.059548j -15.061675-18.309062j  "
      ]
     },
     "execution_count": 85,
     "metadata": {},
     "output_type": "execute_result"
    }
   ],
   "source": [
    "df.head()"
   ]
  },
  {
   "cell_type": "code",
   "execution_count": 82,
   "id": "d12a47f7-0799-44e1-89b0-5d3d4a07c024",
   "metadata": {},
   "outputs": [
    {
     "data": {
      "text/plain": [
       "(500, 16)"
      ]
     },
     "execution_count": 82,
     "metadata": {},
     "output_type": "execute_result"
    }
   ],
   "source": []
  },
  {
   "cell_type": "code",
   "execution_count": 86,
   "id": "aedb4ba0-fa2d-41f5-99ef-04efdeb5b759",
   "metadata": {},
   "outputs": [],
   "source": [
    "df.to_csv(\"data.csv\")"
   ]
  },
  {
   "cell_type": "code",
   "execution_count": 61,
   "id": "45e086ca-a27e-4f03-a9cf-e19b2ddd787b",
   "metadata": {},
   "outputs": [
    {
     "data": {
      "text/plain": [
       "17.0"
      ]
     },
     "execution_count": 61,
     "metadata": {},
     "output_type": "execute_result"
    }
   ],
   "source": [
    "(np.sqrt(Xs**2 + Ys**2)).sum()//3600"
   ]
  },
  {
   "cell_type": "code",
   "execution_count": 69,
   "id": "e6f9d1cc-9083-4307-bb50-9b1ef7d62bc9",
   "metadata": {},
   "outputs": [
    {
     "data": {
      "text/plain": [
       "<matplotlib.colorbar.Colorbar at 0x7f1605c5f640>"
      ]
     },
     "execution_count": 69,
     "metadata": {},
     "output_type": "execute_result"
    },
    {
     "data": {
      "image/png": "[encoded data removed]",
      "text/plain": [
       "<Figure size 432x288 with 2 Axes>"
      ]
     },
     "metadata": {
      "needs_background": "light"
     },
     "output_type": "display_data"
    }
   ],
   "source": [
    "plt.scatter(Xs,Ys,c=deliveryweights)\n",
    "plt.colorbar()"
   ]
  },
  {
   "cell_type": "code",
   "execution_count": 66,
   "id": "bc40840d-c463-4838-a0a3-c176a42790dd",
   "metadata": {},
   "outputs": [
    {
     "data": {
      "image/png": "[encoded data removed]",
      "text/plain": [
       "<Figure size 432x288 with 1 Axes>"
      ]
     },
     "metadata": {
      "needs_background": "light"
     },
     "output_type": "display_data"
    }
   ],
   "source": [
    "plt.hist(Ts)\n",
    "plt.show()"
   ]
  },
  {
   "cell_type": "code",
   "execution_count": null,
   "id": "1f9c57e0-22fc-4dcf-bf42-e66b7044d211",
   "metadata": {},
   "outputs": [],
   "source": [
    "timeslots = 12\n",
    "timeslots_index = np.arange(timeslots)\n",
    "Ds = 100\n"
   ]
  }
 ],
 "metadata": {
  "kernelspec": {
   "display_name": "Python 3 (ipykernel)",
   "language": "python",
   "name": "python3"
  },
  "language_info": {
   "codemirror_mode": {
    "name": "ipython",
    "version": 3
   },
   "file_extension": ".py",
   "mimetype": "text/x-python",
   "name": "python",
   "nbconvert_exporter": "python",
   "pygments_lexer": "ipython3",
   "version": "3.9.7"
  }
 },
 "nbformat": 4,
 "nbformat_minor": 5
}
